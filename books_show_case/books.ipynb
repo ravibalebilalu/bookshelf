{
 "cells": [
  {
   "cell_type": "code",
   "execution_count": 1,
   "id": "ecec1fd6-1572-4307-84b2-9996a5066b12",
   "metadata": {},
   "outputs": [
    {
     "name": "stderr",
     "output_type": "stream",
     "text": [
      "/tmp/ipykernel_15042/2149879817.py:1: DeprecationWarning: \n",
      "Pyarrow will become a required dependency of pandas in the next major release of pandas (pandas 3.0),\n",
      "(to allow more performant data types, such as the Arrow string type, and better interoperability with other libraries)\n",
      "but was not found to be installed on your system.\n",
      "If this would cause problems for you,\n",
      "please provide us feedback at https://github.com/pandas-dev/pandas/issues/54466\n",
      "        \n",
      "  import pandas as pd\n"
     ]
    },
    {
     "data": {
      "text/html": [
       "<div>\n",
       "<style scoped>\n",
       "    .dataframe tbody tr th:only-of-type {\n",
       "        vertical-align: middle;\n",
       "    }\n",
       "\n",
       "    .dataframe tbody tr th {\n",
       "        vertical-align: top;\n",
       "    }\n",
       "\n",
       "    .dataframe thead th {\n",
       "        text-align: right;\n",
       "    }\n",
       "</style>\n",
       "<table border=\"1\" class=\"dataframe\">\n",
       "  <thead>\n",
       "    <tr style=\"text-align: right;\">\n",
       "      <th></th>\n",
       "      <th>bookID</th>\n",
       "      <th>title</th>\n",
       "      <th>authors</th>\n",
       "      <th>average_rating</th>\n",
       "      <th>isbn</th>\n",
       "      <th>isbn13</th>\n",
       "      <th>language_code</th>\n",
       "      <th>num_pages</th>\n",
       "      <th>ratings_count</th>\n",
       "      <th>text_reviews_count</th>\n",
       "      <th>publication_date</th>\n",
       "      <th>publisher</th>\n",
       "    </tr>\n",
       "  </thead>\n",
       "  <tbody>\n",
       "    <tr>\n",
       "      <th>0</th>\n",
       "      <td>1</td>\n",
       "      <td>Harry Potter and the Half-Blood Prince (Harry ...</td>\n",
       "      <td>J.K. Rowling/Mary GrandPré</td>\n",
       "      <td>4.57</td>\n",
       "      <td>0439785960</td>\n",
       "      <td>9780439785969</td>\n",
       "      <td>eng</td>\n",
       "      <td>652</td>\n",
       "      <td>2095690</td>\n",
       "      <td>27591</td>\n",
       "      <td>9/16/2006</td>\n",
       "      <td>Scholastic Inc.</td>\n",
       "    </tr>\n",
       "    <tr>\n",
       "      <th>1</th>\n",
       "      <td>2</td>\n",
       "      <td>Harry Potter and the Order of the Phoenix (Har...</td>\n",
       "      <td>J.K. Rowling/Mary GrandPré</td>\n",
       "      <td>4.49</td>\n",
       "      <td>0439358078</td>\n",
       "      <td>9780439358071</td>\n",
       "      <td>eng</td>\n",
       "      <td>870</td>\n",
       "      <td>2153167</td>\n",
       "      <td>29221</td>\n",
       "      <td>9/1/2004</td>\n",
       "      <td>Scholastic Inc.</td>\n",
       "    </tr>\n",
       "    <tr>\n",
       "      <th>2</th>\n",
       "      <td>4</td>\n",
       "      <td>Harry Potter and the Chamber of Secrets (Harry...</td>\n",
       "      <td>J.K. Rowling</td>\n",
       "      <td>4.42</td>\n",
       "      <td>0439554896</td>\n",
       "      <td>9780439554893</td>\n",
       "      <td>eng</td>\n",
       "      <td>352</td>\n",
       "      <td>6333</td>\n",
       "      <td>244</td>\n",
       "      <td>11/1/2003</td>\n",
       "      <td>Scholastic</td>\n",
       "    </tr>\n",
       "    <tr>\n",
       "      <th>3</th>\n",
       "      <td>5</td>\n",
       "      <td>Harry Potter and the Prisoner of Azkaban (Harr...</td>\n",
       "      <td>J.K. Rowling/Mary GrandPré</td>\n",
       "      <td>4.56</td>\n",
       "      <td>043965548X</td>\n",
       "      <td>9780439655484</td>\n",
       "      <td>eng</td>\n",
       "      <td>435</td>\n",
       "      <td>2339585</td>\n",
       "      <td>36325</td>\n",
       "      <td>5/1/2004</td>\n",
       "      <td>Scholastic Inc.</td>\n",
       "    </tr>\n",
       "    <tr>\n",
       "      <th>4</th>\n",
       "      <td>8</td>\n",
       "      <td>Harry Potter Boxed Set  Books 1-5 (Harry Potte...</td>\n",
       "      <td>J.K. Rowling/Mary GrandPré</td>\n",
       "      <td>4.78</td>\n",
       "      <td>0439682584</td>\n",
       "      <td>9780439682589</td>\n",
       "      <td>eng</td>\n",
       "      <td>2690</td>\n",
       "      <td>41428</td>\n",
       "      <td>164</td>\n",
       "      <td>9/13/2004</td>\n",
       "      <td>Scholastic</td>\n",
       "    </tr>\n",
       "  </tbody>\n",
       "</table>\n",
       "</div>"
      ],
      "text/plain": [
       "   bookID                                              title  \\\n",
       "0       1  Harry Potter and the Half-Blood Prince (Harry ...   \n",
       "1       2  Harry Potter and the Order of the Phoenix (Har...   \n",
       "2       4  Harry Potter and the Chamber of Secrets (Harry...   \n",
       "3       5  Harry Potter and the Prisoner of Azkaban (Harr...   \n",
       "4       8  Harry Potter Boxed Set  Books 1-5 (Harry Potte...   \n",
       "\n",
       "                      authors  average_rating        isbn         isbn13  \\\n",
       "0  J.K. Rowling/Mary GrandPré            4.57  0439785960  9780439785969   \n",
       "1  J.K. Rowling/Mary GrandPré            4.49  0439358078  9780439358071   \n",
       "2                J.K. Rowling            4.42  0439554896  9780439554893   \n",
       "3  J.K. Rowling/Mary GrandPré            4.56  043965548X  9780439655484   \n",
       "4  J.K. Rowling/Mary GrandPré            4.78  0439682584  9780439682589   \n",
       "\n",
       "  language_code  num_pages  ratings_count  text_reviews_count  \\\n",
       "0           eng        652        2095690               27591   \n",
       "1           eng        870        2153167               29221   \n",
       "2           eng        352           6333                 244   \n",
       "3           eng        435        2339585               36325   \n",
       "4           eng       2690          41428                 164   \n",
       "\n",
       "  publication_date        publisher  \n",
       "0        9/16/2006  Scholastic Inc.  \n",
       "1         9/1/2004  Scholastic Inc.  \n",
       "2        11/1/2003       Scholastic  \n",
       "3         5/1/2004  Scholastic Inc.  \n",
       "4        9/13/2004       Scholastic  "
      ]
     },
     "execution_count": 1,
     "metadata": {},
     "output_type": "execute_result"
    }
   ],
   "source": [
    "import pandas as pd\n",
    "book = pd.read_csv(\"/home/ravi/bookshelf/data/books.csv\",on_bad_lines=\"skip\")\n",
    " \n",
    " \n",
    "book.head()"
   ]
  },
  {
   "cell_type": "code",
   "execution_count": 2,
   "id": "66985769-96db-4ff9-8090-1362989542ba",
   "metadata": {},
   "outputs": [],
   "source": [
    "book_columns = [i.strip() for i in book.columns]\n"
   ]
  },
  {
   "cell_type": "code",
   "execution_count": 3,
   "id": "7f2e7bf5-50a4-4c71-85aa-d7d521274436",
   "metadata": {},
   "outputs": [
    {
     "name": "stdout",
     "output_type": "stream",
     "text": [
      "['bookID', 'title', 'authors', 'average_rating', 'isbn', 'isbn13', 'language_code', 'num_pages', 'ratings_count', 'text_reviews_count', 'publication_date', 'publisher']\n"
     ]
    }
   ],
   "source": [
    "book.columns = book_columns\n",
    "print(book_columns)\n"
   ]
  },
  {
   "cell_type": "code",
   "execution_count": 4,
   "id": "7102dae7-9d0a-43e7-9c43-4322523a8987",
   "metadata": {},
   "outputs": [
    {
     "data": {
      "text/plain": [
       "bookID                  int64\n",
       "title                  object\n",
       "authors                object\n",
       "average_rating        float64\n",
       "isbn                   object\n",
       "isbn13                  int64\n",
       "language_code          object\n",
       "num_pages               int64\n",
       "ratings_count           int64\n",
       "text_reviews_count      int64\n",
       "publication_date       object\n",
       "publisher              object\n",
       "dtype: object"
      ]
     },
     "execution_count": 4,
     "metadata": {},
     "output_type": "execute_result"
    }
   ],
   "source": [
    "book.dtypes"
   ]
  },
  {
   "cell_type": "code",
   "execution_count": 5,
   "id": "8a4fab66-e0b7-42d0-9388-ae8e61c3fad4",
   "metadata": {},
   "outputs": [
    {
     "name": "stdout",
     "output_type": "stream",
     "text": [
      "title------- 254\n",
      "authors------- 750\n",
      "isbn------- 10\n",
      "language_code------- 5\n",
      "publication_date------- 10\n",
      "publisher------- 67\n"
     ]
    }
   ],
   "source": [
    " \n",
    "for col in book.columns:\n",
    "    if book[col].dtype == \"O\":\n",
    "        book[col+\"_count\"] = book[col].apply(lambda x:len(x))\n",
    "        print(col+\"-------\",book[col+\"_count\"].max())\n"
   ]
  },
  {
   "cell_type": "code",
   "execution_count": 6,
   "id": "dd622523-5fd9-4091-aa47-1006aaa4d828",
   "metadata": {},
   "outputs": [],
   "source": [
    "from datetime import datetime\n",
    "d1,d2,d3 = [],[],[]\n",
    "for date in book.publication_date:\n",
    "    d1.append(int(date.split(\"/\")[0]))\n",
    "    d2.append(int(date.split(\"/\")[1]))\n",
    "    d3.append(int(date.split(\"/\")[2]))\n",
    "    #mdy"
   ]
  },
  {
   "cell_type": "code",
   "execution_count": 7,
   "id": "04c13c14",
   "metadata": {},
   "outputs": [
    {
     "data": {
      "text/plain": [
       "'9/16/2006'"
      ]
     },
     "execution_count": 7,
     "metadata": {},
     "output_type": "execute_result"
    }
   ],
   "source": [
    "book.publication_date[0]"
   ]
  },
  {
   "cell_type": "code",
   "execution_count": 8,
   "id": "90630601",
   "metadata": {},
   "outputs": [
    {
     "data": {
      "text/html": [
       "<div>\n",
       "<style scoped>\n",
       "    .dataframe tbody tr th:only-of-type {\n",
       "        vertical-align: middle;\n",
       "    }\n",
       "\n",
       "    .dataframe tbody tr th {\n",
       "        vertical-align: top;\n",
       "    }\n",
       "\n",
       "    .dataframe thead th {\n",
       "        text-align: right;\n",
       "    }\n",
       "</style>\n",
       "<table border=\"1\" class=\"dataframe\">\n",
       "  <thead>\n",
       "    <tr style=\"text-align: right;\">\n",
       "      <th></th>\n",
       "      <th>bookID</th>\n",
       "      <th>title</th>\n",
       "      <th>authors</th>\n",
       "      <th>average_rating</th>\n",
       "      <th>isbn</th>\n",
       "      <th>isbn13</th>\n",
       "      <th>language_code</th>\n",
       "      <th>num_pages</th>\n",
       "      <th>ratings_count</th>\n",
       "      <th>text_reviews_count</th>\n",
       "      <th>publication_date</th>\n",
       "      <th>publisher</th>\n",
       "      <th>title_count</th>\n",
       "      <th>authors_count</th>\n",
       "      <th>isbn_count</th>\n",
       "      <th>language_code_count</th>\n",
       "      <th>publication_date_count</th>\n",
       "      <th>publisher_count</th>\n",
       "    </tr>\n",
       "  </thead>\n",
       "  <tbody>\n",
       "    <tr>\n",
       "      <th>5917</th>\n",
       "      <td>22277</td>\n",
       "      <td>Kenang-Kenangan Seorang Geisha (Memoirs of a G...</td>\n",
       "      <td>Arthur Golden</td>\n",
       "      <td>4.11</td>\n",
       "      <td>9833346685</td>\n",
       "      <td>9789833346684</td>\n",
       "      <td>msa</td>\n",
       "      <td>784</td>\n",
       "      <td>28</td>\n",
       "      <td>6</td>\n",
       "      <td>7/1/2006</td>\n",
       "      <td>Marshall Cavendish Editions</td>\n",
       "      <td>52</td>\n",
       "      <td>13</td>\n",
       "      <td>10</td>\n",
       "      <td>3</td>\n",
       "      <td>8</td>\n",
       "      <td>27</td>\n",
       "    </tr>\n",
       "  </tbody>\n",
       "</table>\n",
       "</div>"
      ],
      "text/plain": [
       "      bookID                                              title  \\\n",
       "5917   22277  Kenang-Kenangan Seorang Geisha (Memoirs of a G...   \n",
       "\n",
       "            authors  average_rating        isbn         isbn13 language_code  \\\n",
       "5917  Arthur Golden            4.11  9833346685  9789833346684           msa   \n",
       "\n",
       "      num_pages  ratings_count  text_reviews_count publication_date  \\\n",
       "5917        784             28                   6         7/1/2006   \n",
       "\n",
       "                        publisher  title_count  authors_count  isbn_count  \\\n",
       "5917  Marshall Cavendish Editions           52             13          10   \n",
       "\n",
       "      language_code_count  publication_date_count  publisher_count  \n",
       "5917                    3                       8               27  "
      ]
     },
     "execution_count": 8,
     "metadata": {},
     "output_type": "execute_result"
    }
   ],
   "source": [
    "book[book.language_code==\"msa\"]"
   ]
  },
  {
   "cell_type": "code",
   "execution_count": 10,
   "id": "d12396ed",
   "metadata": {},
   "outputs": [
    {
     "data": {
      "text/plain": [
       "array([4.57, 4.49, 4.42, 4.56, 4.78, 3.74, 4.73, 4.38, 4.22, 4.21, 3.44,\n",
       "       3.87, 4.07, 3.9 , 3.83, 3.86, 3.91, 3.93, 4.59, 4.5 , 4.36, 4.53,\n",
       "       3.84, 3.72, 4.  , 3.88, 4.33, 3.45, 3.76, 3.6 , 4.06, 4.17, 3.55,\n",
       "       3.98, 4.13, 3.95, 4.24, 4.34, 3.92, 4.23, 3.75, 3.94, 3.77, 4.46,\n",
       "       3.68, 3.99, 3.25, 3.89, 3.82, 3.78, 4.01, 4.35, 4.28, 3.34, 3.67,\n",
       "       3.48, 3.5 , 3.62, 4.27, 3.39, 4.12, 4.08, 4.05, 3.85, 2.99, 4.19,\n",
       "       3.71, 4.2 , 3.65, 3.4 , 4.11, 3.42, 4.02, 3.69, 4.1 , 3.66, 4.61,\n",
       "       4.04, 3.97, 4.14, 3.57, 3.43, 3.22, 3.64, 3.96, 3.8 , 3.81, 3.79,\n",
       "       3.23, 4.15, 4.39, 4.03, 3.73, 3.51, 3.63, 3.09, 3.59, 4.29, 0.  ,\n",
       "       4.25, 4.26, 3.61, 4.16, 4.55, 4.52, 3.41, 4.7 , 4.18, 3.58, 4.51,\n",
       "       3.15, 3.31, 4.09, 3.49, 3.56, 4.47, 4.44, 3.7 , 4.32, 4.4 , 4.31,\n",
       "       4.43, 2.8 , 3.46, 2.83, 4.62, 2.67, 4.45, 4.3 , 5.  , 3.1 , 3.08,\n",
       "       3.27, 3.33, 3.  , 4.67, 4.63, 3.52, 3.36, 3.54, 3.17, 4.37, 3.29,\n",
       "       4.64, 3.38, 3.37, 3.16, 3.53, 2.88, 2.98, 3.35, 3.3 , 3.24, 4.41,\n",
       "       4.48, 4.54, 4.6 , 3.32, 3.13, 2.  , 3.2 , 4.58, 2.82, 3.28, 2.62,\n",
       "       2.92, 3.47, 3.02, 1.  , 3.14, 3.12, 3.18, 2.86, 3.26, 3.19, 3.03,\n",
       "       3.07, 3.11, 4.91, 2.55, 2.81, 4.75, 3.21, 4.71, 4.8 , 2.72, 2.79,\n",
       "       2.96, 2.75, 4.86, 4.65, 2.5 , 4.82, 4.76, 4.72, 4.69, 1.67, 3.06,\n",
       "       2.94, 2.89, 3.04, 2.4 , 2.61, 2.77, 2.63, 4.88, 4.83, 2.93, 2.33])"
      ]
     },
     "execution_count": 10,
     "metadata": {},
     "output_type": "execute_result"
    }
   ],
   "source": [
    "book.average_rating.unique()"
   ]
  }
 ],
 "metadata": {
  "kernelspec": {
   "display_name": "Python 3 (ipykernel)",
   "language": "python",
   "name": "python3"
  },
  "language_info": {
   "codemirror_mode": {
    "name": "ipython",
    "version": 3
   },
   "file_extension": ".py",
   "mimetype": "text/x-python",
   "name": "python",
   "nbconvert_exporter": "python",
   "pygments_lexer": "ipython3",
   "version": "3.10.12"
  }
 },
 "nbformat": 4,
 "nbformat_minor": 5
}
