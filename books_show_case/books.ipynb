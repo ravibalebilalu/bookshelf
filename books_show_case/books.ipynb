{
 "cells": [
  {
   "cell_type": "code",
   "execution_count": 2,
   "id": "ecec1fd6-1572-4307-84b2-9996a5066b12",
   "metadata": {},
   "outputs": [
    {
     "data": {
      "text/html": [
       "<div>\n",
       "<style scoped>\n",
       "    .dataframe tbody tr th:only-of-type {\n",
       "        vertical-align: middle;\n",
       "    }\n",
       "\n",
       "    .dataframe tbody tr th {\n",
       "        vertical-align: top;\n",
       "    }\n",
       "\n",
       "    .dataframe thead th {\n",
       "        text-align: right;\n",
       "    }\n",
       "</style>\n",
       "<table border=\"1\" class=\"dataframe\">\n",
       "  <thead>\n",
       "    <tr style=\"text-align: right;\">\n",
       "      <th></th>\n",
       "      <th>bookID</th>\n",
       "      <th>title</th>\n",
       "      <th>authors</th>\n",
       "      <th>average_rating</th>\n",
       "      <th>isbn</th>\n",
       "      <th>isbn13</th>\n",
       "      <th>language_code</th>\n",
       "      <th>num_pages</th>\n",
       "      <th>ratings_count</th>\n",
       "      <th>text_reviews_count</th>\n",
       "      <th>publication_date</th>\n",
       "      <th>publisher</th>\n",
       "    </tr>\n",
       "  </thead>\n",
       "  <tbody>\n",
       "    <tr>\n",
       "      <th>0</th>\n",
       "      <td>1</td>\n",
       "      <td>Harry Potter and the Half-Blood Prince (Harry ...</td>\n",
       "      <td>J.K. Rowling/Mary GrandPré</td>\n",
       "      <td>4.57</td>\n",
       "      <td>0439785960</td>\n",
       "      <td>9780439785969</td>\n",
       "      <td>eng</td>\n",
       "      <td>652</td>\n",
       "      <td>2095690</td>\n",
       "      <td>27591</td>\n",
       "      <td>9/16/2006</td>\n",
       "      <td>Scholastic Inc.</td>\n",
       "    </tr>\n",
       "    <tr>\n",
       "      <th>1</th>\n",
       "      <td>2</td>\n",
       "      <td>Harry Potter and the Order of the Phoenix (Har...</td>\n",
       "      <td>J.K. Rowling/Mary GrandPré</td>\n",
       "      <td>4.49</td>\n",
       "      <td>0439358078</td>\n",
       "      <td>9780439358071</td>\n",
       "      <td>eng</td>\n",
       "      <td>870</td>\n",
       "      <td>2153167</td>\n",
       "      <td>29221</td>\n",
       "      <td>9/1/2004</td>\n",
       "      <td>Scholastic Inc.</td>\n",
       "    </tr>\n",
       "    <tr>\n",
       "      <th>2</th>\n",
       "      <td>4</td>\n",
       "      <td>Harry Potter and the Chamber of Secrets (Harry...</td>\n",
       "      <td>J.K. Rowling</td>\n",
       "      <td>4.42</td>\n",
       "      <td>0439554896</td>\n",
       "      <td>9780439554893</td>\n",
       "      <td>eng</td>\n",
       "      <td>352</td>\n",
       "      <td>6333</td>\n",
       "      <td>244</td>\n",
       "      <td>11/1/2003</td>\n",
       "      <td>Scholastic</td>\n",
       "    </tr>\n",
       "    <tr>\n",
       "      <th>3</th>\n",
       "      <td>5</td>\n",
       "      <td>Harry Potter and the Prisoner of Azkaban (Harr...</td>\n",
       "      <td>J.K. Rowling/Mary GrandPré</td>\n",
       "      <td>4.56</td>\n",
       "      <td>043965548X</td>\n",
       "      <td>9780439655484</td>\n",
       "      <td>eng</td>\n",
       "      <td>435</td>\n",
       "      <td>2339585</td>\n",
       "      <td>36325</td>\n",
       "      <td>5/1/2004</td>\n",
       "      <td>Scholastic Inc.</td>\n",
       "    </tr>\n",
       "    <tr>\n",
       "      <th>4</th>\n",
       "      <td>8</td>\n",
       "      <td>Harry Potter Boxed Set  Books 1-5 (Harry Potte...</td>\n",
       "      <td>J.K. Rowling/Mary GrandPré</td>\n",
       "      <td>4.78</td>\n",
       "      <td>0439682584</td>\n",
       "      <td>9780439682589</td>\n",
       "      <td>eng</td>\n",
       "      <td>2690</td>\n",
       "      <td>41428</td>\n",
       "      <td>164</td>\n",
       "      <td>9/13/2004</td>\n",
       "      <td>Scholastic</td>\n",
       "    </tr>\n",
       "  </tbody>\n",
       "</table>\n",
       "</div>"
      ],
      "text/plain": [
       "   bookID                                              title  \\\n",
       "0       1  Harry Potter and the Half-Blood Prince (Harry ...   \n",
       "1       2  Harry Potter and the Order of the Phoenix (Har...   \n",
       "2       4  Harry Potter and the Chamber of Secrets (Harry...   \n",
       "3       5  Harry Potter and the Prisoner of Azkaban (Harr...   \n",
       "4       8  Harry Potter Boxed Set  Books 1-5 (Harry Potte...   \n",
       "\n",
       "                      authors  average_rating        isbn         isbn13  \\\n",
       "0  J.K. Rowling/Mary GrandPré            4.57  0439785960  9780439785969   \n",
       "1  J.K. Rowling/Mary GrandPré            4.49  0439358078  9780439358071   \n",
       "2                J.K. Rowling            4.42  0439554896  9780439554893   \n",
       "3  J.K. Rowling/Mary GrandPré            4.56  043965548X  9780439655484   \n",
       "4  J.K. Rowling/Mary GrandPré            4.78  0439682584  9780439682589   \n",
       "\n",
       "  language_code  num_pages  ratings_count  text_reviews_count  \\\n",
       "0           eng        652        2095690               27591   \n",
       "1           eng        870        2153167               29221   \n",
       "2           eng        352           6333                 244   \n",
       "3           eng        435        2339585               36325   \n",
       "4           eng       2690          41428                 164   \n",
       "\n",
       "  publication_date        publisher  \n",
       "0        9/16/2006  Scholastic Inc.  \n",
       "1         9/1/2004  Scholastic Inc.  \n",
       "2        11/1/2003       Scholastic  \n",
       "3         5/1/2004  Scholastic Inc.  \n",
       "4        9/13/2004       Scholastic  "
      ]
     },
     "execution_count": 2,
     "metadata": {},
     "output_type": "execute_result"
    }
   ],
   "source": [
    "import pandas as pd\n",
    "book = pd.read_csv(\"/home/ravi/bookshelf/data/books.csv\",on_bad_lines=\"skip\")\n",
    " \n",
    " \n",
    "book.head()"
   ]
  },
  {
   "cell_type": "code",
   "execution_count": 3,
   "id": "66985769-96db-4ff9-8090-1362989542ba",
   "metadata": {},
   "outputs": [],
   "source": [
    "book_columns = [i.strip() for i in book.columns]\n"
   ]
  },
  {
   "cell_type": "code",
   "execution_count": 4,
   "id": "7f2e7bf5-50a4-4c71-85aa-d7d521274436",
   "metadata": {},
   "outputs": [
    {
     "name": "stdout",
     "output_type": "stream",
     "text": [
      "['bookID', 'title', 'authors', 'average_rating', 'isbn', 'isbn13', 'language_code', 'num_pages', 'ratings_count', 'text_reviews_count', 'publication_date', 'publisher']\n"
     ]
    }
   ],
   "source": [
    "book.columns = book_columns\n",
    "print(book_columns)\n"
   ]
  },
  {
   "cell_type": "code",
   "execution_count": 5,
   "id": "7102dae7-9d0a-43e7-9c43-4322523a8987",
   "metadata": {},
   "outputs": [
    {
     "data": {
      "text/plain": [
       "bookID                  int64\n",
       "title                  object\n",
       "authors                object\n",
       "average_rating        float64\n",
       "isbn                   object\n",
       "isbn13                  int64\n",
       "language_code          object\n",
       "num_pages               int64\n",
       "ratings_count           int64\n",
       "text_reviews_count      int64\n",
       "publication_date       object\n",
       "publisher              object\n",
       "dtype: object"
      ]
     },
     "execution_count": 5,
     "metadata": {},
     "output_type": "execute_result"
    }
   ],
   "source": [
    "book.dtypes"
   ]
  },
  {
   "cell_type": "code",
   "execution_count": 6,
   "id": "8a4fab66-e0b7-42d0-9388-ae8e61c3fad4",
   "metadata": {},
   "outputs": [
    {
     "name": "stdout",
     "output_type": "stream",
     "text": [
      "title------- 254\n",
      "authors------- 750\n",
      "isbn------- 10\n",
      "language_code------- 5\n",
      "publication_date------- 10\n",
      "publisher------- 67\n"
     ]
    }
   ],
   "source": [
    " \n",
    "for col in book.columns:\n",
    "    if book[col].dtype == \"O\":\n",
    "        book[col+\"_count\"] = book[col].apply(lambda x:len(x))\n",
    "        print(col+\"-------\",book[col+\"_count\"].max())\n"
   ]
  },
  {
   "cell_type": "code",
   "execution_count": 45,
   "id": "dd622523-5fd9-4091-aa47-1006aaa4d828",
   "metadata": {},
   "outputs": [
    {
     "data": {
      "text/plain": [
       "(11123, 18)"
      ]
     },
     "execution_count": 45,
     "metadata": {},
     "output_type": "execute_result"
    }
   ],
   "source": [
    "book.shape"
   ]
  },
  {
   "cell_type": "code",
   "execution_count": null,
   "id": "04c13c14",
   "metadata": {},
   "outputs": [],
   "source": [
    " \n",
    "\n"
   ]
  }
 ],
 "metadata": {
  "kernelspec": {
   "display_name": "Python 3 (ipykernel)",
   "language": "python",
   "name": "python3"
  },
  "language_info": {
   "codemirror_mode": {
    "name": "ipython",
    "version": 3
   },
   "file_extension": ".py",
   "mimetype": "text/x-python",
   "name": "python",
   "nbconvert_exporter": "python",
   "pygments_lexer": "ipython3",
   "version": "3.10.12"
  }
 },
 "nbformat": 4,
 "nbformat_minor": 5
}
